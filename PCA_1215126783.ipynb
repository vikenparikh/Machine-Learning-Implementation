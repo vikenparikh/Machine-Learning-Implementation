{
 "cells": [
  {
   "cell_type": "code",
   "execution_count": 1,
   "metadata": {
    "collapsed": false
   },
   "outputs": [
    {
     "ename": "PermissionError",
     "evalue": "[Errno 13] Permission denied: 'train-images-idx3-ubyte'",
     "output_type": "error",
     "traceback": [
      "\u001b[0;31m---------------------------------------------------------------------------\u001b[0m",
      "\u001b[0;31mPermissionError\u001b[0m                           Traceback (most recent call last)",
      "\u001b[0;32m<ipython-input-1-3de61a59c803>\u001b[0m in \u001b[0;36m<module>\u001b[0;34m()\u001b[0m\n\u001b[1;32m      7\u001b[0m \u001b[1;32mimport\u001b[0m \u001b[0mmath\u001b[0m\u001b[1;33m\u001b[0m\u001b[0m\n\u001b[1;32m      8\u001b[0m \u001b[1;33m\u001b[0m\u001b[0m\n\u001b[0;32m----> 9\u001b[0;31m \u001b[0mfd\u001b[0m \u001b[1;33m=\u001b[0m \u001b[0mopen\u001b[0m\u001b[1;33m(\u001b[0m\u001b[1;34m'train-images-idx3-ubyte'\u001b[0m\u001b[1;33m)\u001b[0m\u001b[1;33m\u001b[0m\u001b[0m\n\u001b[0m\u001b[1;32m     10\u001b[0m \u001b[0mloaded\u001b[0m \u001b[1;33m=\u001b[0m \u001b[0mnp\u001b[0m\u001b[1;33m.\u001b[0m\u001b[0mfromfile\u001b[0m\u001b[1;33m(\u001b[0m\u001b[0mfile\u001b[0m\u001b[1;33m=\u001b[0m\u001b[0mfd\u001b[0m\u001b[1;33m,\u001b[0m \u001b[0mdtype\u001b[0m\u001b[1;33m=\u001b[0m\u001b[0mnp\u001b[0m\u001b[1;33m.\u001b[0m\u001b[0muint8\u001b[0m\u001b[1;33m)\u001b[0m\u001b[1;33m\u001b[0m\u001b[0m\n\u001b[1;32m     11\u001b[0m \u001b[0mtrData\u001b[0m \u001b[1;33m=\u001b[0m \u001b[0mloaded\u001b[0m\u001b[1;33m[\u001b[0m\u001b[1;36m16\u001b[0m\u001b[1;33m:\u001b[0m\u001b[1;33m]\u001b[0m\u001b[1;33m.\u001b[0m\u001b[0mreshape\u001b[0m\u001b[1;33m(\u001b[0m\u001b[1;33m(\u001b[0m\u001b[1;36m60000\u001b[0m\u001b[1;33m,\u001b[0m \u001b[1;36m28\u001b[0m\u001b[1;33m*\u001b[0m\u001b[1;36m28\u001b[0m\u001b[1;33m)\u001b[0m\u001b[1;33m)\u001b[0m\u001b[1;33m.\u001b[0m\u001b[0mastype\u001b[0m\u001b[1;33m(\u001b[0m\u001b[0mfloat\u001b[0m\u001b[1;33m)\u001b[0m\u001b[1;33m\u001b[0m\u001b[0m\n",
      "\u001b[0;31mPermissionError\u001b[0m: [Errno 13] Permission denied: 'train-images-idx3-ubyte'"
     ]
    }
   ],
   "source": [
    "import numpy as np\n",
    "import os\n",
    "import pdb\n",
    "import matplotlib.pyplot as plt\n",
    "\n",
    "from numpy.linalg import eig, eigh\n",
    "import math\n",
    "\n",
    "fd = open('train-images-idx3-ubyte')\n",
    "loaded = np.fromfile(file=fd, dtype=np.uint8)\n",
    "trData = loaded[16:].reshape((60000, 28*28)).astype(float)"
   ]
  },
  {
   "cell_type": "code",
   "execution_count": 47,
   "metadata": {
    "collapsed": true
   },
   "outputs": [],
   "source": [
    "def one_hot(x, n):\n",
    "    if type(x) == list:\n",
    "        x = np.array(x)\n",
    "    x = x.flatten()\n",
    "    o_h = np.zeros((len(x), n))\n",
    "    o_h[np.arange(len(x)), x] = 1\n",
    "    return o_h"
   ]
  },
  {
   "cell_type": "code",
   "execution_count": 50,
   "metadata": {
    "collapsed": true
   },
   "outputs": [],
   "source": [
    "def mnist(noTrSamples=1000, noTsSamples=100, digit_range=[0, 10], noTrPerClass=100, noTsPerClass=10):\n",
    "    #data_dir = os.path.join(datasets_dir, 'PCA_1215126783/')\n",
    "    fd = open('train-images-idx3-ubyte')\n",
    "    loaded = np.fromfile(file=fd, dtype=np.uint8)\n",
    "    trData = loaded[16:].reshape((60000, 28*28)).astype(float)\n",
    "\n",
    "    fd = open(os.path.join(data_dir, 'train-labels-idx1-ubyte'))\n",
    "    loaded = np.fromfile(file=fd, dtype=np.uint8)\n",
    "    trLabels = loaded[8:].reshape((60000)).astype(float)\n",
    "\n",
    "    fd = open(os.path.join(data_dir, 't10k-images-idx3-ubyte'))\n",
    "    loaded = np.fromfile(file=fd, dtype=np.uint8)\n",
    "    tsData = loaded[16:].reshape((10000, 28*28)).astype(float)\n",
    "\n",
    "    fd = open(os.path.join(data_dir, 't10k-labels-idx1-ubyte'))\n",
    "    loaded = np.fromfile(file=fd, dtype=np.uint8)\n",
    "    tsLabels = loaded[8:].reshape((10000)).astype(float)\n",
    "\n",
    "    trData = trData/255.\n",
    "    tsData = tsData/255.\n",
    "\n",
    "    tsX = np.zeros((noTsSamples, 28*28))\n",
    "    trX = np.zeros((noTrSamples, 28*28))\n",
    "    tsY = np.zeros(noTsSamples)\n",
    "    trY = np.zeros(noTrSamples)\n",
    "\n",
    "    count = 0\n",
    "    for ll in range(digit_range[0], digit_range[1]):\n",
    "        # Train data\n",
    "        idl = np.where(trLabels == ll)\n",
    "        idl = idl[0][: noTrPerClass]\n",
    "        idx = list(range(count*noTrPerClass, (count+1)*noTrPerClass))\n",
    "        trX[idx, :] = trData[idl, :]\n",
    "        trY[idx] = trLabels[idl]\n",
    "        # Test data\n",
    "        idl = np.where(tsLabels == ll)\n",
    "        idl = idl[0][: noTsPerClass]\n",
    "        idx = list(range(count*noTsPerClass, (count+1)*noTsPerClass))\n",
    "        tsX[idx, :] = tsData[idl, :]\n",
    "        tsY[idx] = tsLabels[idl]\n",
    "        count += 1\n",
    "    \n",
    "    np.random.seed(1)\n",
    "    test_idx = np.random.permutation(tsX.shape[0])\n",
    "    tsX = tsX[test_idx,:]\n",
    "    tsY = tsY[test_idx]\n",
    "\n",
    "    trX = trX.T\n",
    "    tsX = tsX.T\n",
    "    trY = trY.reshape(1, -1)\n",
    "    tsY = tsY.reshape(1, -1)\n",
    "    return trX, trY, tsX, tsY"
   ]
  },
  {
   "cell_type": "code",
   "execution_count": 51,
   "metadata": {
    "collapsed": false
   },
   "outputs": [
    {
     "ename": "FileNotFoundError",
     "evalue": "[Errno 2] No such file or directory: 'PCA_1215126783/train-images-idx3-ubyte'",
     "output_type": "error",
     "traceback": [
      "\u001b[0;31m---------------------------------------------------------------------------\u001b[0m",
      "\u001b[0;31mFileNotFoundError\u001b[0m                         Traceback (most recent call last)",
      "\u001b[0;32m<ipython-input-51-4068c4f98487>\u001b[0m in \u001b[0;36m<module>\u001b[0;34m()\u001b[0m\n\u001b[0;32m----> 1\u001b[0;31m \u001b[0mtrX\u001b[0m\u001b[1;33m,\u001b[0m \u001b[0mtrY\u001b[0m\u001b[1;33m,\u001b[0m \u001b[0mtsX\u001b[0m\u001b[1;33m,\u001b[0m \u001b[0mtsY\u001b[0m \u001b[1;33m=\u001b[0m \u001b[0mmnist\u001b[0m\u001b[1;33m(\u001b[0m\u001b[0mnoTrSamples\u001b[0m\u001b[1;33m=\u001b[0m\u001b[1;36m1000\u001b[0m\u001b[1;33m,\u001b[0m \u001b[0mnoTsSamples\u001b[0m\u001b[1;33m=\u001b[0m\u001b[1;36m100\u001b[0m\u001b[1;33m,\u001b[0m \u001b[0mdigit_range\u001b[0m\u001b[1;33m=\u001b[0m\u001b[1;33m[\u001b[0m\u001b[1;36m0\u001b[0m\u001b[1;33m,\u001b[0m \u001b[1;36m10\u001b[0m\u001b[1;33m]\u001b[0m\u001b[1;33m,\u001b[0m \u001b[0mnoTrPerClass\u001b[0m\u001b[1;33m=\u001b[0m\u001b[1;36m100\u001b[0m\u001b[1;33m,\u001b[0m \u001b[0mnoTsPerClass\u001b[0m\u001b[1;33m=\u001b[0m\u001b[1;36m10\u001b[0m\u001b[1;33m)\u001b[0m\u001b[1;33m\u001b[0m\u001b[0m\n\u001b[0m",
      "\u001b[0;32m<ipython-input-50-7c8b4d5912ae>\u001b[0m in \u001b[0;36mmnist\u001b[0;34m(noTrSamples, noTsSamples, digit_range, noTrPerClass, noTsPerClass)\u001b[0m\n\u001b[1;32m      1\u001b[0m \u001b[1;32mdef\u001b[0m \u001b[0mmnist\u001b[0m\u001b[1;33m(\u001b[0m\u001b[0mnoTrSamples\u001b[0m\u001b[1;33m=\u001b[0m\u001b[1;36m1000\u001b[0m\u001b[1;33m,\u001b[0m \u001b[0mnoTsSamples\u001b[0m\u001b[1;33m=\u001b[0m\u001b[1;36m100\u001b[0m\u001b[1;33m,\u001b[0m \u001b[0mdigit_range\u001b[0m\u001b[1;33m=\u001b[0m\u001b[1;33m[\u001b[0m\u001b[1;36m0\u001b[0m\u001b[1;33m,\u001b[0m \u001b[1;36m10\u001b[0m\u001b[1;33m]\u001b[0m\u001b[1;33m,\u001b[0m \u001b[0mnoTrPerClass\u001b[0m\u001b[1;33m=\u001b[0m\u001b[1;36m100\u001b[0m\u001b[1;33m,\u001b[0m \u001b[0mnoTsPerClass\u001b[0m\u001b[1;33m=\u001b[0m\u001b[1;36m10\u001b[0m\u001b[1;33m)\u001b[0m\u001b[1;33m:\u001b[0m\u001b[1;33m\u001b[0m\u001b[0m\n\u001b[1;32m      2\u001b[0m     \u001b[0mdata_dir\u001b[0m \u001b[1;33m=\u001b[0m \u001b[0mos\u001b[0m\u001b[1;33m.\u001b[0m\u001b[0mpath\u001b[0m\u001b[1;33m.\u001b[0m\u001b[0mjoin\u001b[0m\u001b[1;33m(\u001b[0m\u001b[0mdatasets_dir\u001b[0m\u001b[1;33m,\u001b[0m \u001b[1;34m'PCA_1215126783/'\u001b[0m\u001b[1;33m)\u001b[0m\u001b[1;33m\u001b[0m\u001b[0m\n\u001b[0;32m----> 3\u001b[0;31m     \u001b[0mfd\u001b[0m \u001b[1;33m=\u001b[0m \u001b[0mopen\u001b[0m\u001b[1;33m(\u001b[0m\u001b[0mos\u001b[0m\u001b[1;33m.\u001b[0m\u001b[0mpath\u001b[0m\u001b[1;33m.\u001b[0m\u001b[0mjoin\u001b[0m\u001b[1;33m(\u001b[0m\u001b[0mdata_dir\u001b[0m\u001b[1;33m,\u001b[0m \u001b[1;34m'train-images-idx3-ubyte'\u001b[0m\u001b[1;33m)\u001b[0m\u001b[1;33m)\u001b[0m\u001b[1;33m\u001b[0m\u001b[0m\n\u001b[0m\u001b[1;32m      4\u001b[0m     \u001b[0mloaded\u001b[0m \u001b[1;33m=\u001b[0m \u001b[0mnp\u001b[0m\u001b[1;33m.\u001b[0m\u001b[0mfromfile\u001b[0m\u001b[1;33m(\u001b[0m\u001b[0mfile\u001b[0m\u001b[1;33m=\u001b[0m\u001b[0mfd\u001b[0m\u001b[1;33m,\u001b[0m \u001b[0mdtype\u001b[0m\u001b[1;33m=\u001b[0m\u001b[0mnp\u001b[0m\u001b[1;33m.\u001b[0m\u001b[0muint8\u001b[0m\u001b[1;33m)\u001b[0m\u001b[1;33m\u001b[0m\u001b[0m\n\u001b[1;32m      5\u001b[0m     \u001b[0mtrData\u001b[0m \u001b[1;33m=\u001b[0m \u001b[0mloaded\u001b[0m\u001b[1;33m[\u001b[0m\u001b[1;36m16\u001b[0m\u001b[1;33m:\u001b[0m\u001b[1;33m]\u001b[0m\u001b[1;33m.\u001b[0m\u001b[0mreshape\u001b[0m\u001b[1;33m(\u001b[0m\u001b[1;33m(\u001b[0m\u001b[1;36m60000\u001b[0m\u001b[1;33m,\u001b[0m \u001b[1;36m28\u001b[0m\u001b[1;33m*\u001b[0m\u001b[1;36m28\u001b[0m\u001b[1;33m)\u001b[0m\u001b[1;33m)\u001b[0m\u001b[1;33m.\u001b[0m\u001b[0mastype\u001b[0m\u001b[1;33m(\u001b[0m\u001b[0mfloat\u001b[0m\u001b[1;33m)\u001b[0m\u001b[1;33m\u001b[0m\u001b[0m\n",
      "\u001b[0;31mFileNotFoundError\u001b[0m: [Errno 2] No such file or directory: 'PCA_1215126783/train-images-idx3-ubyte'"
     ]
    }
   ],
   "source": [
    "trX, trY, tsX, tsY = mnist(noTrSamples=1000, noTsSamples=100, digit_range=[0, 10], noTrPerClass=100, noTsPerClass=10)"
   ]
  },
  {
   "cell_type": "code",
   "execution_count": 10,
   "metadata": {
    "collapsed": false
   },
   "outputs": [
    {
     "ename": "NameError",
     "evalue": "name 'trX' is not defined",
     "output_type": "error",
     "traceback": [
      "\u001b[0;31m---------------------------------------------------------------------------\u001b[0m",
      "\u001b[0;31mNameError\u001b[0m                                 Traceback (most recent call last)",
      "\u001b[0;32m<ipython-input-10-df0c810e9817>\u001b[0m in \u001b[0;36m<module>\u001b[0;34m()\u001b[0m\n\u001b[1;32m      3\u001b[0m \u001b[1;31m############################################################################################################################\u001b[0m\u001b[1;33m\u001b[0m\u001b[1;33m\u001b[0m\u001b[0m\n\u001b[1;32m      4\u001b[0m \u001b[1;33m\u001b[0m\u001b[0m\n\u001b[0;32m----> 5\u001b[0;31m \u001b[0mcov_matrix\u001b[0m \u001b[1;33m=\u001b[0m \u001b[0mnp\u001b[0m\u001b[1;33m.\u001b[0m\u001b[0mcov\u001b[0m\u001b[1;33m(\u001b[0m\u001b[0mtrX\u001b[0m\u001b[1;33m)\u001b[0m\u001b[1;33m;\u001b[0m\u001b[1;33m\u001b[0m\u001b[0m\n\u001b[0m\u001b[1;32m      6\u001b[0m \u001b[1;33m\u001b[0m\u001b[0m\n\u001b[1;32m      7\u001b[0m \u001b[0meigen_values\u001b[0m\u001b[1;33m,\u001b[0m \u001b[0meigen_vectors\u001b[0m \u001b[1;33m=\u001b[0m \u001b[0meigh\u001b[0m\u001b[1;33m(\u001b[0m\u001b[0mcov_matrix\u001b[0m\u001b[1;33m)\u001b[0m\u001b[1;33m\u001b[0m\u001b[0m\n",
      "\u001b[0;31mNameError\u001b[0m: name 'trX' is not defined"
     ]
    }
   ],
   "source": [
    "############################################################################################################################\n",
    "                                    # QUESTION 1 #\n",
    "############################################################################################################################\n",
    "\n",
    "cov_matrix = np.cov(trX);\n",
    "    \n",
    "eigen_values, eigen_vectors = eigh(cov_matrix)\n",
    "\n",
    "# Taking just first 100 Eigen Vectors and eigen values\n",
    "E = eigen_vectors.T[::-1][:100,:].T\n",
    "E_lambda = np.diag(eigen_values[::-1][:100])\n",
    "\n",
    "# Applying PCA to reduce the dataset\n",
    "reduced_trX = np.dot(E.T, trX)\n",
    "    \n",
    "# Percentage of variance captured\n",
    "variance = np.trace(E_lambda) / np.sum(eigen_values)\n",
    "print (\"Variance = \"+str(variance*100))\n",
    "\n",
    "# Obtain the new co-variance matrix and plotting\n",
    "reduced_cov_matrix = np.cov(reduced_trX)\n",
    "plt.matshow(reduced_cov_matrix)\n",
    "plt.title(\"Covariance Matrix of Reduced Training Set after PCA\");\n",
    "\n",
    "print (\"Analysis: The covariance is observed to be kind of a Diagonal matrix where the variances are seen to decrease. This is because PCA projects the points on the directions of maximum variance. These directions are the eigen vectors. These eigen vectors are arranged based on decreasing order of eigen value, which is proportional to variance. This explains the decreasing variance from high to low in the diagonal. The other covariances are 0 due to the property of PCA to choose eigen vectors to preserve variance.\")\n",
    "\n",
    "    \n",
    "# Plotting the images for all numbers\n",
    "for digit in range(10):\n",
    "    plt.figure()\n",
    "    plt.imshow(np.reshape(reduced_trX[:, digit*100], (10, 10)))\n",
    "    plt.title(\"Digit After PCA \"+str(digit))\n",
    "plt.show()\n",
    "    "
   ]
  },
  {
   "cell_type": "code",
   "execution_count": 11,
   "metadata": {
    "collapsed": false
   },
   "outputs": [
    {
     "ename": "NameError",
     "evalue": "name 'reduced_cov_matrix' is not defined",
     "output_type": "error",
     "traceback": [
      "\u001b[0;31m---------------------------------------------------------------------------\u001b[0m",
      "\u001b[0;31mNameError\u001b[0m                                 Traceback (most recent call last)",
      "\u001b[0;32m<ipython-input-11-bc9fd7df0bb2>\u001b[0m in \u001b[0;36m<module>\u001b[0;34m()\u001b[0m\n\u001b[1;32m      5\u001b[0m \u001b[1;31m# Question 2\u001b[0m\u001b[1;33m\u001b[0m\u001b[1;33m\u001b[0m\u001b[0m\n\u001b[1;32m      6\u001b[0m \u001b[1;31m# Find Eigen values and Eigen vectors for reduced dimensions\u001b[0m\u001b[1;33m\u001b[0m\u001b[1;33m\u001b[0m\u001b[0m\n\u001b[0;32m----> 7\u001b[0;31m \u001b[0mE_lambda_reduced\u001b[0m\u001b[1;33m,\u001b[0m \u001b[0mE_reduced\u001b[0m \u001b[1;33m=\u001b[0m \u001b[0meigh\u001b[0m\u001b[1;33m(\u001b[0m\u001b[0mreduced_cov_matrix\u001b[0m\u001b[1;33m)\u001b[0m\u001b[1;33m\u001b[0m\u001b[0m\n\u001b[0m\u001b[1;32m      8\u001b[0m \u001b[1;33m\u001b[0m\u001b[0m\n\u001b[1;32m      9\u001b[0m \u001b[1;31m# Eliminate all negative values\u001b[0m\u001b[1;33m\u001b[0m\u001b[1;33m\u001b[0m\u001b[0m\n",
      "\u001b[0;31mNameError\u001b[0m: name 'reduced_cov_matrix' is not defined"
     ]
    }
   ],
   "source": [
    "############################################################################################################################\n",
    "                                    # QUESTION 2 #\n",
    "############################################################################################################################\n",
    "\n",
    "# Question 2\n",
    "# Find Eigen values and Eigen vectors for reduced dimensions\n",
    "E_lambda_reduced, E_reduced = eigh(reduced_cov_matrix)\n",
    "\n",
    "# Eliminate all negative values\n",
    "#E_lambda_reduced[E_lambda_reduced < 0] = 0\n",
    "    \n",
    "# Change the eigenvalue matrix for whitening\n",
    "E_lambda_reduced = np.diag(1 / np.sqrt(E_lambda_reduced[::-1] + math.exp(-3)))\n",
    "    \n",
    "# FInd Ew\n",
    "Ew = np.dot(E_reduced.T[::-1].T, E_lambda_reduced)\n",
    "\n",
    "# Whitened data\n",
    "reduced_trX_PCA_whitened = np.dot(Ew.T, reduced_trX)\n",
    "    \n",
    "# Find the new covariance matrix for PCA Whitening and plot\n",
    "cov_PCA_whitened = np.cov(reduced_trX_PCA_whitened)\n",
    "plt.matshow(cov_PCA_whitened)\n",
    "plt.title(\"Covariance matrix for reduced data after PCA whitening\")\n",
    "\n",
    "# Applying ZCA transform\n",
    "reduced_trX_ZCA_whitened = np.dot(E_reduced, reduced_trX_PCA_whitened)\n",
    "\n",
    "# Find new covariance matrix for ZCA whitening and plot\n",
    "cov_ZCA_whitening = np.cov(reduced_trX_ZCA_whitened)\n",
    "plt.matshow(cov_ZCA_whitening)\n",
    "plt.title(\"Covariance matrix for reduced data after ZCA whitening\")\n",
    "\n",
    "print (\"Analysis: The covariance matrices After PCA and ZCA Whitening are very close to Identity matrices which is the desired result after whitening \")\n",
    "\n",
    "\n",
    "# Plot images for digits after ZCA\n",
    "for digit in range(10):\n",
    "    plt.figure()\n",
    "    plt.imshow(np.reshape(reduced_trX_ZCA_whitened[:, digit*100 + 25], (10, 10)))\n",
    "    plt.title(\"Digit after ZCA \"+str(digit))\n",
    "plt.show()\n"
   ]
  },
  {
   "cell_type": "code",
   "execution_count": 12,
   "metadata": {
    "collapsed": false
   },
   "outputs": [
    {
     "ename": "NameError",
     "evalue": "name 'reduced_trX' is not defined",
     "output_type": "error",
     "traceback": [
      "\u001b[0;31m---------------------------------------------------------------------------\u001b[0m",
      "\u001b[0;31mNameError\u001b[0m                                 Traceback (most recent call last)",
      "\u001b[0;32m<ipython-input-12-d72b521d36fe>\u001b[0m in \u001b[0;36m<module>\u001b[0;34m()\u001b[0m\n\u001b[1;32m      3\u001b[0m \u001b[1;31m############################################################################################################################\u001b[0m\u001b[1;33m\u001b[0m\u001b[1;33m\u001b[0m\u001b[0m\n\u001b[1;32m      4\u001b[0m \u001b[1;33m\u001b[0m\u001b[0m\n\u001b[0;32m----> 5\u001b[0;31m \u001b[0mtrX_class0\u001b[0m\u001b[1;33m,\u001b[0m \u001b[0mtrX_class1\u001b[0m \u001b[1;33m=\u001b[0m \u001b[0mreduced_trX\u001b[0m\u001b[1;33m[\u001b[0m\u001b[1;33m:\u001b[0m\u001b[1;33m,\u001b[0m \u001b[1;33m:\u001b[0m\u001b[1;36m100\u001b[0m\u001b[1;33m]\u001b[0m\u001b[1;33m,\u001b[0m \u001b[0mreduced_trX\u001b[0m\u001b[1;33m[\u001b[0m\u001b[1;33m:\u001b[0m\u001b[1;33m,\u001b[0m \u001b[1;36m100\u001b[0m\u001b[1;33m:\u001b[0m\u001b[1;36m200\u001b[0m\u001b[1;33m]\u001b[0m\u001b[1;33m\u001b[0m\u001b[0m\n\u001b[0m\u001b[1;32m      6\u001b[0m \u001b[1;33m\u001b[0m\u001b[0m\n\u001b[1;32m      7\u001b[0m \u001b[1;31m# Find Sw matrix\u001b[0m\u001b[1;33m\u001b[0m\u001b[1;33m\u001b[0m\u001b[0m\n",
      "\u001b[0;31mNameError\u001b[0m: name 'reduced_trX' is not defined"
     ]
    }
   ],
   "source": [
    "############################################################################################################################\n",
    "                                    # QUESTION 3 #\n",
    "############################################################################################################################\n",
    "\n",
    "trX_class0, trX_class1 = reduced_trX[:, :100], reduced_trX[:, 100:200]\n",
    "\n",
    "# Find Sw matrix\n",
    "Sw = np.cov(trX_class0) + np.cov(trX_class1)\n",
    "\n",
    "# Find inverse of Sw matrix\n",
    "Sw_inverse = np.linalg.inv(Sw)\n",
    "\n",
    "# Find the two means\n",
    "m0, m1 = np.mean(trX_class0, axis=1), np.mean(trX_class1, axis=1)\n",
    "mean_diff = m0 - m1\n",
    "\n",
    "# Find the fisher linear discriminant\n",
    "W = np.dot(Sw_inverse, mean_diff.reshape(100,1))\n",
    "\n",
    "# Find the threshold\n",
    "threshold_value = 0.5 * np.dot(W.T, m0 + m1)\n",
    "print (\"Threshold value = \"+str(threshold_value[0]))\n",
    "print (\"LDA Result : If y > \"+str(threshold_value[0])+\" then predict 0, else predict 1.\")\n",
    "\n",
    "# Plot the Results of LDA on the Training set\n",
    "reduced_trX_LDA = np.dot(W.T, reduced_trX[:, :200])\n",
    "plt.figure()\n",
    "plt.plot(reduced_trX_LDA[:, :100], np.zeros_like(reduced_trX_LDA[:, :100]), 'gx', label = \"Digit 0\")\n",
    "plt.plot(reduced_trX_LDA[:, 100:200], np.zeros_like(reduced_trX_LDA[:, 100:200]), 'ro', label = \"Digit 1\")\n",
    "plt.title(\"LDA results on the training set\")\n",
    "\n",
    "# Find eigenvalues and eigen vectors of test set\n",
    "E_lambda_test, E_test = eigh(np.cov(tsX))\n",
    "\n",
    "# Find reduced Test set\n",
    "reduced_tsX = np.dot(E_test.T[::-1][:100, :], tsX)\n",
    "\n",
    "# Find the test set for classes 0 and 1\n",
    "required_ordered_indices_labels = np.argsort(tsY[0])[:20]\n",
    "\n",
    "# Project the test points on W\n",
    "reduced_tsX_LDA = np.dot(W.T, reduced_tsX[:, required_ordered_indices_labels])\n",
    "\n",
    "plt.figure()\n",
    "plt.plot(reduced_tsX_LDA[:, :10], np.zeros_like(reduced_tsX_LDA[:, :10]), 'gx')\n",
    "plt.plot(reduced_tsX_LDA[:, 10:20], np.zeros_like(reduced_tsX_LDA[:, 10:20]) + 0, 'ro')\n",
    "plt.title(\"LDA results on the test set\")\n",
    "\n",
    "# Find the predictions and compute accuracy\n",
    "true_predictions = tsY[0][required_ordered_indices_labels]\n",
    "error = 0\n",
    "\n",
    "for i, prediction in enumerate(reduced_tsX_LDA[0]):\n",
    "    if prediction <= threshold_value:\n",
    "        prediction = 1\n",
    "    else:\n",
    "        prediction = 0\n",
    "        \n",
    "    if prediction != true_predictions[i]:\n",
    "        error += 5\n",
    "\n",
    "print (\"Error in classifying Test set in LDA = \"+str(error)+\"%\")\n",
    "\n",
    "plt.show()"
   ]
  },
  {
   "cell_type": "code",
   "execution_count": null,
   "metadata": {
    "collapsed": true
   },
   "outputs": [],
   "source": []
  },
  {
   "cell_type": "code",
   "execution_count": null,
   "metadata": {
    "collapsed": true
   },
   "outputs": [],
   "source": []
  }
 ],
 "metadata": {
  "kernelspec": {
   "display_name": "Python 3",
   "language": "python",
   "name": "python3"
  },
  "language_info": {
   "codemirror_mode": {
    "name": "ipython",
    "version": 3
   },
   "file_extension": ".py",
   "mimetype": "text/x-python",
   "name": "python",
   "nbconvert_exporter": "python",
   "pygments_lexer": "ipython3",
   "version": "3.6.0"
  }
 },
 "nbformat": 4,
 "nbformat_minor": 2
}
