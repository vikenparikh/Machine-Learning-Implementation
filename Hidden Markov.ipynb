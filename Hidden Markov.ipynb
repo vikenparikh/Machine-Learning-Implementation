{
 "cells": [
  {
   "cell_type": "code",
   "execution_count": 1,
   "metadata": {
    "collapsed": true
   },
   "outputs": [],
   "source": [
    "n = 5"
   ]
  },
  {
   "cell_type": "code",
   "execution_count": 2,
   "metadata": {
    "collapsed": true
   },
   "outputs": [],
   "source": [
    "a1 = 1/2 * 1/3\n",
    "a2 = 1/2 * 1/3\n",
    "a3 = 1/3\n",
    "a4 = 1/2 * 1/2\n",
    "a5 = 1/2 * 1/2"
   ]
  },
  {
   "cell_type": "markdown",
   "metadata": {},
   "source": [
    "### Compute alpha"
   ]
  },
  {
   "cell_type": "code",
   "execution_count": 3,
   "metadata": {
    "collapsed": true
   },
   "outputs": [],
   "source": [
    "s1 = []\n",
    "s2 = []\n",
    "s3 = []\n",
    "\n",
    "#assigning initial assumed values\n",
    "s1.append(1)\n",
    "s2.append(s1[0]*1/3)\n",
    "s3.append(0)\n",
    "temp = 0.0\n",
    "\n",
    "#forward propogation\n",
    "for i in range(n-1):\n",
    "    temp = s1[i] * a1\n",
    "    s1.append(temp)\n",
    "    \n",
    "    temp = s1[i+1]*(a3) + s2[i]*(a4) + s1[i]*(a2)\n",
    "    s2.append(temp)\n",
    "    \n",
    "    temp = s2[i]*a5\n",
    "    s3.append(temp)"
   ]
  },
  {
   "cell_type": "markdown",
   "metadata": {},
   "source": [
    "### printing the values at each stage"
   ]
  },
  {
   "cell_type": "code",
   "execution_count": 4,
   "metadata": {
    "collapsed": false
   },
   "outputs": [
    {
     "data": {
      "text/plain": [
       "[1,\n",
       " 0.16666666666666666,\n",
       " 0.027777777777777776,\n",
       " 0.004629629629629629,\n",
       " 0.0007716049382716049]"
      ]
     },
     "execution_count": 4,
     "metadata": {},
     "output_type": "execute_result"
    }
   ],
   "source": [
    "s1"
   ]
  },
  {
   "cell_type": "code",
   "execution_count": 5,
   "metadata": {
    "collapsed": false
   },
   "outputs": [
    {
     "data": {
      "text/plain": [
       "[0.3333333333333333,\n",
       " 0.3055555555555556,\n",
       " 0.11342592592592593,\n",
       " 0.03452932098765432,\n",
       " 0.00966113683127572]"
      ]
     },
     "execution_count": 5,
     "metadata": {},
     "output_type": "execute_result"
    }
   ],
   "source": [
    "s2"
   ]
  },
  {
   "cell_type": "code",
   "execution_count": 6,
   "metadata": {
    "collapsed": false
   },
   "outputs": [
    {
     "data": {
      "text/plain": [
       "[0,\n",
       " 0.08333333333333333,\n",
       " 0.0763888888888889,\n",
       " 0.028356481481481483,\n",
       " 0.00863233024691358]"
      ]
     },
     "execution_count": 6,
     "metadata": {},
     "output_type": "execute_result"
    }
   ],
   "source": [
    "s3"
   ]
  },
  {
   "cell_type": "code",
   "execution_count": 7,
   "metadata": {
    "collapsed": false
   },
   "outputs": [
    {
     "name": "stdout",
     "output_type": "stream",
     "text": [
      "Output of forward propogation state-wise:\n"
     ]
    },
    {
     "data": {
      "text/plain": [
       "[[1,\n",
       "  0.16666666666666666,\n",
       "  0.027777777777777776,\n",
       "  0.004629629629629629,\n",
       "  0.0007716049382716049],\n",
       " [0.3333333333333333,\n",
       "  0.3055555555555556,\n",
       "  0.11342592592592593,\n",
       "  0.03452932098765432,\n",
       "  0.00966113683127572],\n",
       " [0,\n",
       "  0.08333333333333333,\n",
       "  0.0763888888888889,\n",
       "  0.028356481481481483,\n",
       "  0.00863233024691358]]"
      ]
     },
     "execution_count": 7,
     "metadata": {},
     "output_type": "execute_result"
    }
   ],
   "source": [
    "forward = []\n",
    "forward.append(s1)\n",
    "forward.append(s2)\n",
    "forward.append(s3)\n",
    "print(\"Output of forward propogation state-wise:\")\n",
    "forward"
   ]
  },
  {
   "cell_type": "markdown",
   "metadata": {},
   "source": [
    "### Compute Beta"
   ]
  },
  {
   "cell_type": "code",
   "execution_count": 8,
   "metadata": {
    "collapsed": true
   },
   "outputs": [],
   "source": [
    "#assigning assumed initial values"
   ]
  },
  {
   "cell_type": "code",
   "execution_count": 9,
   "metadata": {
    "collapsed": true
   },
   "outputs": [],
   "source": [
    "#initialize beta arrays beta\n",
    "b1 = s1.copy()\n",
    "b2 = s2.copy()\n",
    "b3 = s3.copy()"
   ]
  },
  {
   "cell_type": "code",
   "execution_count": 10,
   "metadata": {
    "collapsed": false
   },
   "outputs": [],
   "source": [
    "b1[n-1] = b2[n-1] = 0.0\n",
    "b3[n-1] = 1.0"
   ]
  },
  {
   "cell_type": "code",
   "execution_count": 11,
   "metadata": {
    "collapsed": false
   },
   "outputs": [],
   "source": [
    "arr = n-1\n",
    "\n",
    "for i in range(arr):\n",
    "    #state 3\n",
    "    b3[arr - i-1] = 0.0 \n",
    "    \n",
    "    #state 2\n",
    "    temp = b2[arr-i]*a4 + b3[arr-i]*a5\n",
    "    b2[arr-i-1] = temp\n",
    "    \n",
    "    #state 1\n",
    "    temp = b1[arr-i]*a1 + b2[arr-i]*a2 + b2[arr-i-1]*a3\n",
    "    b1[arr-i-1] = temp"
   ]
  },
  {
   "cell_type": "code",
   "execution_count": 12,
   "metadata": {
    "collapsed": false
   },
   "outputs": [
    {
     "data": {
      "text/plain": [
       "[0.0, 0.0, 0.0, 0.0, 1.0]"
      ]
     },
     "execution_count": 12,
     "metadata": {},
     "output_type": "execute_result"
    }
   ],
   "source": [
    "b3"
   ]
  },
  {
   "cell_type": "code",
   "execution_count": 13,
   "metadata": {
    "collapsed": false
   },
   "outputs": [
    {
     "data": {
      "text/plain": [
       "[0.00390625, 0.015625, 0.0625, 0.25, 0.0]"
      ]
     },
     "execution_count": 13,
     "metadata": {},
     "output_type": "execute_result"
    }
   ],
   "source": [
    "b2"
   ]
  },
  {
   "cell_type": "code",
   "execution_count": 14,
   "metadata": {
    "collapsed": false
   },
   "outputs": [
    {
     "data": {
      "text/plain": [
       "[0.00863233024691358,\n",
       " 0.02835648148148148,\n",
       " 0.07638888888888888,\n",
       " 0.08333333333333333,\n",
       " 0.0]"
      ]
     },
     "execution_count": 14,
     "metadata": {},
     "output_type": "execute_result"
    }
   ],
   "source": [
    "b1"
   ]
  },
  {
   "cell_type": "code",
   "execution_count": 15,
   "metadata": {
    "collapsed": true
   },
   "outputs": [],
   "source": [
    "beta = []\n",
    "beta.append(b1)\n",
    "\n",
    "beta.append(b2)\n",
    "\n",
    "beta.append(b3)"
   ]
  },
  {
   "cell_type": "code",
   "execution_count": 16,
   "metadata": {
    "collapsed": false
   },
   "outputs": [
    {
     "name": "stdout",
     "output_type": "stream",
     "text": [
      "Output of backward propogation state-wise:\n"
     ]
    },
    {
     "data": {
      "text/plain": [
       "[[0.00863233024691358,\n",
       "  0.02835648148148148,\n",
       "  0.07638888888888888,\n",
       "  0.08333333333333333,\n",
       "  0.0],\n",
       " [0.00390625, 0.015625, 0.0625, 0.25, 0.0],\n",
       " [0.0, 0.0, 0.0, 0.0, 1.0]]"
      ]
     },
     "execution_count": 16,
     "metadata": {},
     "output_type": "execute_result"
    }
   ],
   "source": [
    "print(\"Output of backward propogation state-wise:\")\n",
    "beta"
   ]
  },
  {
   "cell_type": "markdown",
   "metadata": {},
   "source": [
    "### Compute Counts"
   ]
  },
  {
   "cell_type": "code",
   "execution_count": 17,
   "metadata": {
    "collapsed": true
   },
   "outputs": [],
   "source": [
    "prob_a = 1/2\n",
    "prob_a3 = 1\n",
    "\n",
    "b1j = 1/3\n",
    "b2j = 1/2"
   ]
  },
  {
   "cell_type": "code",
   "execution_count": 18,
   "metadata": {
    "collapsed": false
   },
   "outputs": [],
   "source": [
    "#counts for a1\n",
    "\n",
    "count_a1 = []\n",
    "count_a2 = []\n",
    "count_a3 = []\n",
    "count_a4 = []\n",
    "count_a5 = []\n",
    "\n",
    "for i in range(n-1):\n",
    "    #count for a1\n",
    "    temp = s1[i] * b1[i+1] * prob_a * b1j / b1[0]\n",
    "    count_a1.append(temp)\n",
    "    \n",
    "    #count for a2\n",
    "    temp = s1[i] * b2[i+1] * prob_a * b1j / b1[0]\n",
    "    count_a2.append(temp)\n",
    "    \n",
    "    #count for a3\n",
    "    temp = s1[i] * b2[i] * prob_a3 * b1j / b1[0] \n",
    "    count_a3.append(temp)\n",
    "    \n",
    "    #count for a4\n",
    "    temp = s2[i] * b2[i+1] * b2j * prob_a /b1[0]\n",
    "    count_a4.append(temp)\n",
    "    \n",
    "    #count for a5\n",
    "    count_a5.append(0.0)"
   ]
  },
  {
   "cell_type": "code",
   "execution_count": 19,
   "metadata": {
    "collapsed": false
   },
   "outputs": [
    {
     "data": {
      "text/plain": [
       "[0.5474860335195529, 0.24581005586592172, 0.04469273743016759, 0.0]"
      ]
     },
     "execution_count": 19,
     "metadata": {},
     "output_type": "execute_result"
    }
   ],
   "source": [
    "count_a1"
   ]
  },
  {
   "cell_type": "code",
   "execution_count": 20,
   "metadata": {
    "collapsed": false
   },
   "outputs": [
    {
     "data": {
      "text/plain": [
       "[0.30167597765363124, 0.20111731843575417, 0.1340782122905028, 0.0]"
      ]
     },
     "execution_count": 20,
     "metadata": {},
     "output_type": "execute_result"
    }
   ],
   "source": [
    "count_a2"
   ]
  },
  {
   "cell_type": "code",
   "execution_count": 21,
   "metadata": {
    "collapsed": false
   },
   "outputs": [
    {
     "data": {
      "text/plain": [
       "[0.15083798882681562,\n",
       " 0.10055865921787709,\n",
       " 0.0670391061452514,\n",
       " 0.04469273743016759]"
      ]
     },
     "execution_count": 21,
     "metadata": {},
     "output_type": "execute_result"
    }
   ],
   "source": [
    "count_a3"
   ]
  },
  {
   "cell_type": "code",
   "execution_count": 22,
   "metadata": {
    "collapsed": false
   },
   "outputs": [
    {
     "data": {
      "text/plain": [
       "[0.15083798882681562, 0.553072625698324, 0.8212290502793296, 0.0]"
      ]
     },
     "execution_count": 22,
     "metadata": {},
     "output_type": "execute_result"
    }
   ],
   "source": [
    "count_a4"
   ]
  },
  {
   "cell_type": "code",
   "execution_count": 23,
   "metadata": {
    "collapsed": false
   },
   "outputs": [
    {
     "data": {
      "text/plain": [
       "[0.0, 0.0, 0.0, 1.0]"
      ]
     },
     "execution_count": 23,
     "metadata": {},
     "output_type": "execute_result"
    }
   ],
   "source": [
    "count_a5[3] = 1.0\n",
    "count_a5"
   ]
  },
  {
   "cell_type": "code",
   "execution_count": 24,
   "metadata": {
    "collapsed": true
   },
   "outputs": [],
   "source": [
    "count = []\n",
    "count.append(count_a1)\n",
    "count.append(count_a2)\n",
    "count.append(count_a3)\n",
    "count.append(count_a4)\n",
    "count.append(count_a5)"
   ]
  },
  {
   "cell_type": "code",
   "execution_count": 25,
   "metadata": {
    "collapsed": true
   },
   "outputs": [],
   "source": [
    "def compute(x, c):\n",
    "    sum = 0.0\n",
    "    if c == \"b\":\n",
    "        sum+= x[1]\n",
    "        \n",
    "    elif c==\"a\":\n",
    "        for i in range(len(x)):\n",
    "            sum+= x[i]\n",
    "            \n",
    "        sum= sum - x[1]\n",
    "    \n",
    "    return sum"
   ]
  },
  {
   "cell_type": "code",
   "execution_count": 26,
   "metadata": {
    "collapsed": false
   },
   "outputs": [
    {
     "name": "stdout",
     "output_type": "stream",
     "text": [
      "Output of posterior probability of each transition-wise:\n"
     ]
    },
    {
     "data": {
      "text/plain": [
       "[[0.5474860335195529, 0.24581005586592172, 0.04469273743016759, 0.0],\n",
       " [0.30167597765363124, 0.20111731843575417, 0.1340782122905028, 0.0],\n",
       " [0.15083798882681562,\n",
       "  0.10055865921787709,\n",
       "  0.0670391061452514,\n",
       "  0.04469273743016759],\n",
       " [0.15083798882681562, 0.553072625698324, 0.8212290502793296, 0.0],\n",
       " [0.0, 0.0, 0.0, 1.0]]"
      ]
     },
     "execution_count": 26,
     "metadata": {},
     "output_type": "execute_result"
    }
   ],
   "source": [
    "print(\"Output of posterior probability of each transition-wise:\")\n",
    "count"
   ]
  },
  {
   "cell_type": "code",
   "execution_count": 27,
   "metadata": {
    "collapsed": false
   },
   "outputs": [],
   "source": [
    "matrix = []\n",
    "temp = []\n",
    "for x in count:\n",
    "    temp = []\n",
    "    for c in ['a', 'b']:\n",
    "        temp.append(compute(x,c))\n",
    "        \n",
    "    matrix.append(temp)"
   ]
  },
  {
   "cell_type": "code",
   "execution_count": 28,
   "metadata": {
    "collapsed": false
   },
   "outputs": [
    {
     "data": {
      "text/plain": [
       "[0.43575418994413395, 0.20111731843575417]"
      ]
     },
     "execution_count": 28,
     "metadata": {},
     "output_type": "execute_result"
    }
   ],
   "source": [
    "matrix[1]"
   ]
  },
  {
   "cell_type": "code",
   "execution_count": 29,
   "metadata": {
    "collapsed": false
   },
   "outputs": [
    {
     "data": {
      "text/plain": [
       "[[0.5921787709497205, 0.24581005586592172],\n",
       " [0.43575418994413395, 0.20111731843575417],\n",
       " [0.2625698324022346, 0.10055865921787709],\n",
       " [0.9720670391061452, 0.553072625698324],\n",
       " [1.0, 0.0]]"
      ]
     },
     "execution_count": 29,
     "metadata": {},
     "output_type": "execute_result"
    }
   ],
   "source": [
    "matrix"
   ]
  },
  {
   "cell_type": "code",
   "execution_count": 30,
   "metadata": {
    "collapsed": false
   },
   "outputs": [
    {
     "name": "stdout",
     "output_type": "stream",
     "text": [
      "c(a1,\"a\") = 0.5921787709497205\t\tc(a1,\"a\") = 0.24581005586592172\t\t\n",
      "c(a2,\"a\") = 0.43575418994413395\t\tc(a2,\"a\") = 0.20111731843575417\t\t\n",
      "c(a3,\"a\") = 0.2625698324022346\t\tc(a3,\"a\") = 0.10055865921787709\t\t\n",
      "c(a4,\"a\") = 0.9720670391061452\t\tc(a4,\"a\") = 0.553072625698324\t\t\n",
      "c(a5,\"a\") = 1.0\t\tc(a5,\"a\") = 0.0\t\t\n"
     ]
    }
   ],
   "source": [
    "for x in range(len(matrix)):\n",
    "    for y in matrix[x]:\n",
    "        print('c(a',x+1, ',\"a\") = ',  y , sep = '', end = '\\t\\t')\n",
    "    print()"
   ]
  },
  {
   "cell_type": "code",
   "execution_count": 31,
   "metadata": {
    "collapsed": false
   },
   "outputs": [],
   "source": [
    "sum1 = sum2 = i = 0\n",
    "sums = []\n",
    "\n",
    "for x in range(len(matrix)):\n",
    "    \n",
    "    if x<=2:\n",
    "        for y in matrix[x]:\n",
    "            sum1 +=y\n",
    "        #sums.append(sum1)\n",
    "    elif x>2:\n",
    "        for y in matrix[x]:\n",
    "            sum2 +=y\n",
    "            \n",
    "        #sums.append(sum2)\n",
    "    i=i+1"
   ]
  },
  {
   "cell_type": "code",
   "execution_count": 32,
   "metadata": {
    "collapsed": true
   },
   "outputs": [],
   "source": [
    "sums=[]\n",
    "for x in range(len(matrix)):\n",
    "    if x<=2:\n",
    "        sum=0\n",
    "        for y in matrix[x]:\n",
    "            sum +=y\n",
    "        sums.append(sum)\n",
    "    elif x>2:\n",
    "        sum=0\n",
    "        for y in matrix[x]:\n",
    "            sum +=y\n",
    "        sums.append(sum)\n",
    "    i=i+1"
   ]
  },
  {
   "cell_type": "code",
   "execution_count": 33,
   "metadata": {
    "collapsed": false
   },
   "outputs": [
    {
     "data": {
      "text/plain": [
       "[0.8379888268156422,\n",
       " 0.6368715083798882,\n",
       " 0.3631284916201117,\n",
       " 1.5251396648044693,\n",
       " 1.0]"
      ]
     },
     "execution_count": 33,
     "metadata": {},
     "output_type": "execute_result"
    }
   ],
   "source": [
    "sums"
   ]
  },
  {
   "cell_type": "code",
   "execution_count": 34,
   "metadata": {
    "collapsed": false
   },
   "outputs": [
    {
     "data": {
      "text/plain": [
       "2.5251396648044695"
      ]
     },
     "execution_count": 34,
     "metadata": {},
     "output_type": "execute_result"
    }
   ],
   "source": [
    "sum2"
   ]
  },
  {
   "cell_type": "code",
   "execution_count": 35,
   "metadata": {
    "collapsed": false
   },
   "outputs": [
    {
     "data": {
      "text/plain": [
       "1.8379888268156421"
      ]
     },
     "execution_count": 35,
     "metadata": {},
     "output_type": "execute_result"
    }
   ],
   "source": [
    "sum1"
   ]
  },
  {
   "cell_type": "code",
   "execution_count": 36,
   "metadata": {
    "collapsed": false
   },
   "outputs": [
    {
     "name": "stdout",
     "output_type": "stream",
     "text": [
      "Reaching End of iteration 1\n"
     ]
    }
   ],
   "source": [
    "print('Reaching End of iteration 1')"
   ]
  },
  {
   "cell_type": "markdown",
   "metadata": {},
   "source": [
    "### Computing transition probability for each transition at the end of iteration 1"
   ]
  },
  {
   "cell_type": "code",
   "execution_count": 37,
   "metadata": {
    "collapsed": false
   },
   "outputs": [
    {
     "name": "stdout",
     "output_type": "stream",
     "text": [
      "Transition Probabilities:\n",
      "a 0 :\t 0.4559270516717325\n",
      "a 1 :\t 0.3465045592705167\n",
      "a 2 :\t 0.19756838905775076\n",
      "a 3 :\t 0.6039823008849557\n",
      "a 4 :\t 0.3960176991150442\n"
     ]
    }
   ],
   "source": [
    "P = []\n",
    "\n",
    "for i in range(n):\n",
    "    \n",
    "    if i <=2:\n",
    "        P.append(sums[i]/sum1)\n",
    "        \n",
    "    else:\n",
    "        P.append(sums[i]/sum2)\n",
    "        \n",
    "print('Transition Probabilities:')\n",
    "\n",
    "for i in range(len(P)):\n",
    "    print('a',i,':\\t',P[i])"
   ]
  },
  {
   "cell_type": "markdown",
   "metadata": {},
   "source": [
    "### Computing emission probability for each transition at the end of iteration 1"
   ]
  },
  {
   "cell_type": "code",
   "execution_count": 38,
   "metadata": {
    "collapsed": false
   },
   "outputs": [
    {
     "name": "stdout",
     "output_type": "stream",
     "text": [
      "Emission Probabilities:\n",
      "0 A:\t 0.7066666666666667 \tB:\t 0.29333333333333333\n",
      "1 A:\t 0.6842105263157894 \tB:\t 0.31578947368421056\n",
      "3 A:\t 0.6373626373626373 \tB:\t 0.3626373626373627\n",
      "4 A:\t 1.0 \tB:\t 0.0\n"
     ]
    }
   ],
   "source": [
    "E = []\n",
    "temp=[]\n",
    "\n",
    "for i in range(n):\n",
    "    temp = []\n",
    "    for e in matrix[i]:\n",
    "        temp.append(e/sums[i])\n",
    "    \n",
    "    E.append(temp)\n",
    "    \n",
    "        \n",
    "print('Emission Probabilities:')\n",
    "\n",
    "E[2][1]=E[2][0] = \"\"\n",
    "\n",
    "for i in range(len(E)):\n",
    "    if i==2:\n",
    "        continue\n",
    "    print(i,'A:\\t',E[i][0],'\\tB:\\t',E[i][1])"
   ]
  }
 ],
 "metadata": {
  "kernelspec": {
   "display_name": "Python 3",
   "language": "python",
   "name": "python3"
  },
  "language_info": {
   "codemirror_mode": {
    "name": "ipython",
    "version": 3
   },
   "file_extension": ".py",
   "mimetype": "text/x-python",
   "name": "python",
   "nbconvert_exporter": "python",
   "pygments_lexer": "ipython3",
   "version": "3.6.0"
  }
 },
 "nbformat": 4,
 "nbformat_minor": 2
}
