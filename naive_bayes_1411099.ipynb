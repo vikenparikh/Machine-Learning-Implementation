{
 "cells": [
  {
   "cell_type": "code",
   "execution_count": 1,
   "metadata": {
    "collapsed": false
   },
   "outputs": [
    {
     "name": "stderr",
     "output_type": "stream",
     "text": [
      "C:\\ProgramData\\Anaconda3\\lib\\site-packages\\sklearn\\cross_validation.py:41: DeprecationWarning: This module was deprecated in version 0.18 in favor of the model_selection module into which all the refactored classes and functions are moved. Also note that the interface of the new CV iterators are different from that of this module. This module will be removed in 0.20.\n",
      "  \"This module will be removed in 0.20.\", DeprecationWarning)\n",
      "C:\\ProgramData\\Anaconda3\\lib\\site-packages\\sklearn\\grid_search.py:42: DeprecationWarning: This module was deprecated in version 0.18 in favor of the model_selection module into which all the refactored classes and functions are moved. This module will be removed in 0.20.\n",
      "  DeprecationWarning)\n"
     ]
    }
   ],
   "source": [
    "import pandas as pd\n",
    "import numpy as np\n",
    "from sklearn.model_selection import train_test_split\n",
    "import csv\n",
    "from numpy.random import RandomState\n",
    "from scipy.special import logsumexp\n",
    "import operator"
   ]
  },
  {
   "cell_type": "markdown",
   "metadata": {},
   "source": [
    "### Creating NaiveBayesian class"
   ]
  },
  {
   "cell_type": "code",
   "execution_count": 2,
   "metadata": {
    "collapsed": true
   },
   "outputs": [],
   "source": [
    "class NaiveBayes:\n",
    "    def fit(self, X, y):\n",
    "        raise NotImplementedError()\n",
    "    def _predict_log_proba(self, X):\n",
    "        jll = self._joint_log_likelihood(X)\n",
    "        log_prob = logsumexp(jll, axis=1)\n",
    "        return jll - np.atleast_2d(log_prob).T\n",
    "    def predict_proba(self, X):\n",
    "        return np.exp(self._predict_log_proba(X))\n",
    "    def predict(self, X):\n",
    "        return self._classes[np.argmax(self._joint_log_likelihood(X), axis=1)]\n",
    "    def score(self, X, y):\n",
    "        pred = self.predict(X)\n",
    "        score = 0.0\n",
    "        for i in range(pred.shape[0]):\n",
    "            if (pred[i] == y[i]):\n",
    "                score += 1\n",
    "        return score / pred.shape[0]"
   ]
  },
  {
   "cell_type": "markdown",
   "metadata": {},
   "source": [
    "### Creating Gaussian bayes class to calculate likelihood and fit model for naive bayes"
   ]
  },
  {
   "cell_type": "code",
   "execution_count": null,
   "metadata": {
    "collapsed": true
   },
   "outputs": [],
   "source": [
    "class GaussianBayes(NaiveBayes):\n",
    "    def fit(self, X, y):\n",
    "        #y has 2 classes spam and not spam\n",
    "        unq, unq_counts = np.unique(y, return_counts=True)\n",
    "        # K x 1\n",
    "        self._classes = unq\n",
    "        self.priors = unq_counts / y.shape[0]\n",
    "        \n",
    "        self.num_classes = len(unq)\n",
    "        mean = []\n",
    "        var = []\n",
    "        for y_i in unq:\n",
    "            X_i = X[y == y_i, :]\n",
    "            mean.append(np.mean(X_i, axis=0))\n",
    "            var.append(np.var(X_i, axis=0))\n",
    "        # K x N\n",
    "        self.mean = self._weights = np.vstack(mean) \n",
    "        # K x N\n",
    "        self.var = np.vstack(var)\n",
    "        \n",
    "    def _joint_log_likelihood(self, X):\n",
    "        prob = []\n",
    "        epsilon = 1e-9\n",
    "        \n",
    "        for k in range(self.num_classes):\n",
    "            mean = self.mean[k, :]\n",
    "            var = self.var[k, :] + epsilon # add epsilon so we never divide by zero\n",
    "            gauss = -0.5 * np.sum(np.log(2.0 * np.pi * var))\n",
    "            gauss -= 0.5 * np.sum(np.square(X - mean) / var, axis=1)\n",
    "            prob.append(np.log(self.priors[k]) + gauss)\n",
    "\n",
    "        prob = np.vstack(prob).T\n",
    "        return prob"
   ]
  },
  {
   "cell_type": "markdown",
   "metadata": {},
   "source": [
    "### Initializing Data, Initializing and run Naive bayes classifer for 50 times and take mean of the scores"
   ]
  },
  {
   "cell_type": "code",
   "execution_count": 19,
   "metadata": {
    "collapsed": false
   },
   "outputs": [
    {
     "name": "stdout",
     "output_type": "stream",
     "text": [
      "Average Accuracy:  80.5971014493\n",
      "\n",
      "\n",
      "Top 5 not-spam features:\n",
      "[('credit', 1.2791286519733476), ('650', 1.236740133264991), ('hpl', 0.90985135827780572), ('people', 0.51829830855971315), ('font', 0.43942593541773467)]\n",
      "\n",
      "\n",
      "Top 5 spam features:\n",
      "[('credit', 2.2459889676910931), ('font', 1.3650039401103229), ('business', 0.5447202521670611), ('people', 0.53241922773837602), ('over', 0.52296296296296274)]\n",
      "\n",
      "\n"
     ]
    }
   ],
   "source": [
    "word_labels = ['address', 'all', '3d', 'our', 'over', 'remove', 'internet','order', \n",
    "               'mail', 'receive', 'will', 'people', 'report', 'addresses','free', \n",
    "               'business', 'email', 'you', 'credit', 'your', 'font', '000',\n",
    "               'money', 'hp', 'hpl', 'george', '650', 'lab', 'labs', 'telnet', '857',\n",
    "               'data', '415', '85', 'technology', '1999', 'parts', 'pm', 'direct',\n",
    "               'cs', 'meeting', 'original', 'project', 're', 'edu', 'table', 'conference']\n",
    "scores = []\n",
    "weights = []\n",
    "iterations = 50\n",
    "k = 5\n",
    "\n",
    "for i in range(iterations):\n",
    "    data = []\n",
    "    f = open('spambase.csv')\n",
    "    reader = csv.reader(f)\n",
    "    next(reader, None)\n",
    "    for row in reader:\n",
    "        data.append(row)\n",
    "    f.close()\n",
    "\n",
    "    X = np.array([x[:-1] for x in data]).astype(np.float)\n",
    "    y = np.array([x[-1] for x in data]).astype(np.float)\n",
    "    X_train, X_test, y_train, y_test = train_test_split(X, y, test_size=0.3, random_state=RandomState())\n",
    "    \n",
    "    #First 48 features chosen\n",
    "    X_train = X_train[:, 0:48]\n",
    "    X_test = X_test[:, 0:48]\n",
    "    clf = GaussianBayes()\n",
    "    clf.fit(X_train, y_train)\n",
    "    scores.append(clf.score(X_test, y_test))\n",
    "\n",
    "print('Average Accuracy: ',(np.mean(scores)*100))\n",
    "\n",
    "weights = clf._weights\n",
    "print('\\n')\n",
    "print('Top %d not-spam features:' % k)\n",
    "print(sorted(zip(word_labels, weights[0, :]), reverse=True, key=operator.itemgetter(1))[:k])\n",
    "print('\\n')\n",
    "print('Top %d spam features:' % k)\n",
    "print(sorted(zip(word_labels, weights[1, :]), reverse=True, key=operator.itemgetter(1))[:k])\n",
    "print('\\n')"
   ]
  }
 ],
 "metadata": {
  "kernelspec": {
   "display_name": "Python 3",
   "language": "python",
   "name": "python3"
  },
  "language_info": {
   "codemirror_mode": {
    "name": "ipython",
    "version": 3
   },
   "file_extension": ".py",
   "mimetype": "text/x-python",
   "name": "python",
   "nbconvert_exporter": "python",
   "pygments_lexer": "ipython3",
   "version": "3.6.0"
  }
 },
 "nbformat": 4,
 "nbformat_minor": 2
}
